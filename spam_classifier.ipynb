{
  "nbformat": 4,
  "nbformat_minor": 0,
  "metadata": {
    "colab": {
      "provenance": []
    },
    "kernelspec": {
      "name": "python3",
      "display_name": "Python 3"
    },
    "language_info": {
      "name": "python"
    }
  },
  "cells": [
    {
      "cell_type": "code",
      "execution_count": 1,
      "metadata": {
        "colab": {
          "base_uri": "https://localhost:8080/"
        },
        "id": "0ALqq2cvHhJX",
        "outputId": "2062beec-c17a-4695-ec38-8976b723cca2"
      },
      "outputs": [
        {
          "output_type": "stream",
          "name": "stderr",
          "text": [
            "[nltk_data] Downloading package stopwords to /root/nltk_data...\n",
            "[nltk_data]   Unzipping corpora/stopwords.zip.\n"
          ]
        },
        {
          "output_type": "stream",
          "name": "stdout",
          "text": [
            "Accuracy: 0.9857\n",
            "\n",
            "Confusion Matrix:\n",
            " [[962   4]\n",
            " [ 12 137]]\n",
            "\n",
            "Classification Report:\n",
            "               precision    recall  f1-score   support\n",
            "\n",
            "           0       0.99      1.00      0.99       966\n",
            "           1       0.97      0.92      0.94       149\n",
            "\n",
            "    accuracy                           0.99      1115\n",
            "   macro avg       0.98      0.96      0.97      1115\n",
            "weighted avg       0.99      0.99      0.99      1115\n",
            "\n",
            "\n",
            "Sample Prediction: [1 0]\n"
          ]
        }
      ],
      "source": [
        "# Step 1: Install & Import Libraries\n",
        "!pip install -q nltk\n",
        "import pandas as pd\n",
        "import nltk\n",
        "import string\n",
        "from sklearn.model_selection import train_test_split\n",
        "from sklearn.feature_extraction.text import CountVectorizer\n",
        "from sklearn.naive_bayes import MultinomialNB\n",
        "from sklearn.metrics import accuracy_score, confusion_matrix, classification_report\n",
        "\n",
        "nltk.download('stopwords')\n",
        "from nltk.corpus import stopwords\n",
        "\n",
        "# Step 2: Load Dataset from URL\n",
        "url = \"https://raw.githubusercontent.com/justmarkham/pycon-2016-tutorial/master/data/sms.tsv\"\n",
        "df = pd.read_csv(url, sep='\\t', header=None, names=['label', 'message'])\n",
        "\n",
        "\n",
        "# Step 3: Convert labels to binary\n",
        "df['label'] = df['label'].map({'ham': 0, 'spam': 1})\n",
        "\n",
        "# Step 4: Clean the Text\n",
        "def clean_text(msg):\n",
        "    msg = msg.lower()\n",
        "    msg = ''.join([char for char in msg if char not in string.punctuation])\n",
        "    msg = ' '.join([word for word in msg.split() if word not in stopwords.words('english')])\n",
        "    return msg\n",
        "\n",
        "df['cleaned'] = df['message'].apply(clean_text)\n",
        "\n",
        "# Step 5: Split and Vectorize\n",
        "X_train, X_test, y_train, y_test = train_test_split(df['cleaned'], df['label'], test_size=0.2, random_state=42)\n",
        "cv = CountVectorizer()\n",
        "X_train_cv = cv.fit_transform(X_train)\n",
        "X_test_cv = cv.transform(X_test)\n",
        "\n",
        "# Step 6: Train Model\n",
        "model = MultinomialNB()\n",
        "model.fit(X_train_cv, y_train)\n",
        "\n",
        "# Step 7: Evaluate\n",
        "y_pred = model.predict(X_test_cv)\n",
        "print(f\"Accuracy: {accuracy_score(y_test, y_pred):.4f}\\n\")\n",
        "print(\"Confusion Matrix:\\n\", confusion_matrix(y_test, y_pred))\n",
        "print(\"\\nClassification Report:\\n\", classification_report(y_test, y_pred))\n",
        "\n",
        "# Step 8: Test on Custom Input\n",
        "sample = [\"You won a lottery! Call now to claim\", \"Hey, are we meeting at 6?\"]\n",
        "sample_cv = cv.transform(sample)\n",
        "print(\"\\nSample Prediction:\", model.predict(sample_cv))  # 1=Spam, 0=Ham\n"
      ]
    }
  ]
}